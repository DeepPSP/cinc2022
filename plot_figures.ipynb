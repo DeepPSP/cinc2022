{
 "cells": [
  {
   "cell_type": "code",
   "execution_count": null,
   "id": "9f28f06e",
   "metadata": {},
   "outputs": [],
   "source": [
    "import pandas as pd\n",
    "from pathlib import Path\n",
    "import tqdm\n",
    "import sys\n",
    "import matplotlib.pyplot as plt\n",
    "import re\n",
    "\n",
    "# ^^^ pyforest auto-imports - don't write above this line\n",
    "sys.path.insert(0, \"/home/wenhao/Jupyter/wenhao/workspace/torch_ecg/\")\n",
    "sys.path.insert(0, \"/home/wenhao/Jupyter/wenhao/workspace/bib_lookup/\")\n",
    "\n",
    "%load_ext autoreload\n",
    "%autoreload 2"
   ]
  },
  {
   "cell_type": "code",
   "execution_count": null,
   "id": "780e614b",
   "metadata": {},
   "outputs": [],
   "source": []
  },
  {
   "cell_type": "markdown",
   "id": "0bf8d224",
   "metadata": {},
   "source": [
    "## plots of the databases"
   ]
  },
  {
   "cell_type": "code",
   "execution_count": null,
   "id": "2b6130a8",
   "metadata": {},
   "outputs": [],
   "source": [
    "from data_reader import (\n",
    "    CompositeReader,\n",
    "    CINC2016Reader,\n",
    "    CINC2022Reader,\n",
    "    EPHNOGRAMReader,\n",
    "    PCGDataBase,\n",
    ")"
   ]
  },
  {
   "cell_type": "code",
   "execution_count": null,
   "id": "46c404c1",
   "metadata": {},
   "outputs": [],
   "source": [
    "dr = CINC2022Reader(\"/home/wenhao/Jupyter/wenhao/data/CinC2022/\")"
   ]
  },
  {
   "cell_type": "code",
   "execution_count": null,
   "id": "61123ba5",
   "metadata": {},
   "outputs": [],
   "source": [
    "?dr.plot_outcome_correlation"
   ]
  },
  {
   "cell_type": "code",
   "execution_count": null,
   "id": "5bc6b876",
   "metadata": {},
   "outputs": [],
   "source": [
    "ax = dr.plot_outcome_correlation(col=\"Murmur\")"
   ]
  },
  {
   "cell_type": "code",
   "execution_count": null,
   "id": "bfd054a1",
   "metadata": {},
   "outputs": [],
   "source": [
    "# ax.figure.savefig(\"./images/outcome_murmur_corr.pdf\", dpi=1200, bbox_inches=\"tight\", transparent=False);\n",
    "# ax.figure.savefig(\"./images/outcome_murmur_corr.svg\", dpi=1200, bbox_inches=\"tight\", transparent=False);"
   ]
  },
  {
   "cell_type": "code",
   "execution_count": null,
   "id": "2694efd6",
   "metadata": {},
   "outputs": [],
   "source": [
    "ax = dr.plot_outcome_correlation(col=\"Age\")"
   ]
  },
  {
   "cell_type": "code",
   "execution_count": null,
   "id": "5024dfdf",
   "metadata": {},
   "outputs": [],
   "source": [
    "# ax.figure.savefig(\"./images/outcome_age_corr.pdf\", dpi=1200, bbox_inches=\"tight\", transparent=False);\n",
    "# ax.figure.savefig(\"./images/outcome_age_corr.svg\", dpi=1200, bbox_inches=\"tight\", transparent=False);"
   ]
  },
  {
   "cell_type": "code",
   "execution_count": null,
   "id": "6531959b",
   "metadata": {},
   "outputs": [],
   "source": [
    "ax = dr.plot_outcome_correlation(col=\"Sex\")"
   ]
  },
  {
   "cell_type": "code",
   "execution_count": null,
   "id": "c2694396",
   "metadata": {},
   "outputs": [],
   "source": [
    "# ax.figure.savefig(\"./images/outcome_sex_corr.pdf\", dpi=1200, bbox_inches=\"tight\", transparent=False);\n",
    "# ax.figure.savefig(\"./images/outcome_sex_corr.svg\", dpi=1200, bbox_inches=\"tight\", transparent=False);"
   ]
  },
  {
   "cell_type": "code",
   "execution_count": null,
   "id": "239b79fe",
   "metadata": {},
   "outputs": [],
   "source": [
    "ax = dr.plot_outcome_correlation(col=\"Pregnancy status\")"
   ]
  },
  {
   "cell_type": "code",
   "execution_count": null,
   "id": "6cef2eac",
   "metadata": {},
   "outputs": [],
   "source": [
    "# ax.figure.savefig(\"./images/outcome_pregnancy_status_corr.pdf\", dpi=1200, bbox_inches=\"tight\", transparent=False);\n",
    "# ax.figure.savefig(\"./images/outcome_pregnancy_status_corr.svg\", dpi=1200, bbox_inches=\"tight\", transparent=False);"
   ]
  },
  {
   "cell_type": "code",
   "execution_count": null,
   "id": "8648ee67",
   "metadata": {},
   "outputs": [],
   "source": []
  },
  {
   "cell_type": "code",
   "execution_count": null,
   "id": "a397bb34",
   "metadata": {},
   "outputs": [],
   "source": []
  },
  {
   "cell_type": "markdown",
   "id": "4af6e6b6",
   "metadata": {},
   "source": [
    "## Plots of the models"
   ]
  },
  {
   "cell_type": "code",
   "execution_count": null,
   "id": "79e96fb8",
   "metadata": {},
   "outputs": [],
   "source": [
    "import seaborn as sns\n",
    "from matplotlib.pyplot import cm\n",
    "import matplotlib.patches as patches\n",
    "from tqdm.auto import tqdm\n",
    "\n",
    "sns.set()\n",
    "\n",
    "plt.rcParams[\"xtick.labelsize\"] = 28\n",
    "plt.rcParams[\"ytick.labelsize\"] = 28\n",
    "plt.rcParams[\"axes.labelsize\"] = 40\n",
    "plt.rcParams[\"legend.fontsize\"] = 24\n",
    "\n",
    "colors = plt.rcParams[\"axes.prop_cycle\"].by_key()[\"color\"]\n",
    "\n",
    "markers = [\"p\", \"v\", \"s\", \"d\", \"x\", \"*\", \"+\", \"$\\heartsuit$\"]\n",
    "marker_size = 12\n",
    "\n",
    "%load_ext autoreload\n",
    "%autoreload 2"
   ]
  },
  {
   "cell_type": "code",
   "execution_count": null,
   "id": "32830d20",
   "metadata": {},
   "outputs": [],
   "source": [
    "try:\n",
    "    import bib_lookup\n",
    "except ModuleNotFoundError:\n",
    "    sys.path.insert(0, \"/home/wenhao/Jupyter/wenhao/workspace/bib_lookup/\")\n",
    "try:\n",
    "    from torch_ecg.utils.misc import MovingAverage, list_sum\n",
    "except ModuleNotFoundError:\n",
    "    sys.path.insert(0, \"/home/wenhao/Jupyter/wenhao/workspace/torch_ecg/\")\n",
    "    from torch_ecg.utils.misc import MovingAverage, list_sum"
   ]
  },
  {
   "cell_type": "code",
   "execution_count": null,
   "id": "98b496d2",
   "metadata": {},
   "outputs": [],
   "source": [
    "# ma = MovingAverage()\n",
    "ma_ea = MovingAverage()\n",
    "\n",
    "ma = lambda x: x"
   ]
  },
  {
   "cell_type": "code",
   "execution_count": null,
   "id": "e63b0946",
   "metadata": {},
   "outputs": [],
   "source": [
    "from models import CRNN_CINC2022, Wav2Vec2_CINC2022, HFWav2Vec2_CINC2022"
   ]
  },
  {
   "cell_type": "code",
   "execution_count": null,
   "id": "c5c4635f",
   "metadata": {},
   "outputs": [],
   "source": [
    "results_dir = Path(\"./results/\").resolve()\n",
    "results_dir"
   ]
  },
  {
   "cell_type": "code",
   "execution_count": null,
   "id": "7057b911",
   "metadata": {},
   "outputs": [],
   "source": [
    "l_csv = list(results_dir.rglob(\"*.csv\"))\n",
    "l_csv"
   ]
  },
  {
   "cell_type": "code",
   "execution_count": null,
   "id": "407757c3",
   "metadata": {},
   "outputs": [],
   "source": []
  },
  {
   "cell_type": "code",
   "execution_count": null,
   "id": "4ee26b34",
   "metadata": {},
   "outputs": [],
   "source": [
    "res = {}\n",
    "with tqdm(l_csv) as t:\n",
    "    for fp in t:\n",
    "        if \"OutcomeGridSearch\" in str(fp):\n",
    "            continue\n",
    "        lines = (fp.with_suffix(\".txt\")).read_text().splitlines()\n",
    "        model_fp = None\n",
    "        for l in lines:\n",
    "            tmp = re.findall(\"/.*BestModel.*\\\\.pth\\\\.tar\", l)\n",
    "            if len(tmp) > 0:\n",
    "                model_fp = tmp[0]\n",
    "                epoch = int(re.findall(\"epoch([\\\\d]+)_\", lines[-1])[0])\n",
    "        if \"CRNN_CINC2022\" in model_fp:\n",
    "            model, train_cfg = CRNN_CINC2022.from_checkpoint(model_fp)\n",
    "            task = train_cfg.task\n",
    "            cnn_name = train_cfg[task].cnn_name\n",
    "            tag = f\"crnn-{cnn_name}\"\n",
    "        elif \"HFWav2Vec2_CINC2022\" in model_fp:\n",
    "            model, train_cfg = HFWav2Vec2_CINC2022.from_checkpoint(model_fp)\n",
    "            task = train_cfg.task\n",
    "            # encoder_name = train_cfg[task].encoder\n",
    "            tag = f\"hf-wav2vec2\"\n",
    "        else:\n",
    "            model, train_cfg = Wav2Vec2_CINC2022.from_checkpoint(model_fp)\n",
    "            task = train_cfg.task\n",
    "            cnn_name = train_cfg[task].cnn_name\n",
    "            # encoder_name = train_cfg[task].encoder\n",
    "            tag = f\"ta-wav2vec2\"\n",
    "        df_fp = pd.read_csv(fp)\n",
    "        df_fp.step = df_fp.step.fillna(method=\"ffill\")\n",
    "        train_loss = df_fp[df_fp.part == \"train\"][\n",
    "            [\"epoch\", \"step\", \"loss\", \"time\", \"lr\"]\n",
    "        ].dropna()\n",
    "        val_metrics = (\n",
    "            df_fp[df_fp.part == \"val\"].drop(columns=[\"loss\", \"time\", \"lr\"]).dropna()\n",
    "        )\n",
    "\n",
    "        res[str(fp)] = dict(\n",
    "            tag=tag,\n",
    "            task=task,\n",
    "            train_loss=train_loss,\n",
    "            val_metrics=val_metrics,\n",
    "        )"
   ]
  },
  {
   "cell_type": "code",
   "execution_count": null,
   "id": "83041b26",
   "metadata": {
    "scrolled": true
   },
   "outputs": [],
   "source": [
    "res"
   ]
  },
  {
   "cell_type": "code",
   "execution_count": null,
   "id": "996aefe5",
   "metadata": {},
   "outputs": [],
   "source": [
    "# NOT finished yet\n",
    "fig, ax = plt.subplots(figsize=(20, 12))\n",
    "# ax2 = ax.twinx()\n",
    "for k, v in res.items():\n",
    "    df_val_metrics = v[\"val_metrics\"]\n",
    "    ax.plot(\n",
    "        df_val_metrics.step,\n",
    "        df_val_metrics.murmur_weighted_accuracy,\n",
    "        label=f\"{v['task']}-{v['tag']}\",\n",
    "    )\n",
    "    ax.plot(df_val_metrics.step, df_val_metrics.outcome_weighted_accuracy)\n",
    "#     ax.set_ylim(0.4,1.0)\n",
    "ax.legend()"
   ]
  },
  {
   "cell_type": "code",
   "execution_count": null,
   "id": "2b3b6662",
   "metadata": {},
   "outputs": [],
   "source": []
  }
 ],
 "metadata": {
  "kernelspec": {
   "display_name": "Python 3",
   "language": "python",
   "name": "python3"
  },
  "language_info": {
   "codemirror_mode": {
    "name": "ipython",
    "version": 3
   },
   "file_extension": ".py",
   "mimetype": "text/x-python",
   "name": "python",
   "nbconvert_exporter": "python",
   "pygments_lexer": "ipython3",
   "version": "3.6.9"
  }
 },
 "nbformat": 4,
 "nbformat_minor": 5
}
