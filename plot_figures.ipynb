{
 "cells": [
  {
   "cell_type": "code",
   "execution_count": null,
   "id": "9f28f06e",
   "metadata": {},
   "outputs": [],
   "source": [
    "import sys\n",
    "# ^^^ pyforest auto-imports - don't write above this line\n",
    "sys.path.insert(0, \"/home/wenhao/Jupyter/wenhao/workspace/torch_ecg/\")\n",
    "sys.path.insert(0, \"/home/wenhao/Jupyter/wenhao/workspace/bib_lookup/\")\n",
    "\n",
    "%load_ext autoreload\n",
    "%autoreload 2"
   ]
  },
  {
   "cell_type": "code",
   "execution_count": null,
   "id": "780e614b",
   "metadata": {},
   "outputs": [],
   "source": []
  },
  {
   "cell_type": "markdown",
   "id": "0bf8d224",
   "metadata": {},
   "source": [
    "## plots of the databases"
   ]
  },
  {
   "cell_type": "code",
   "execution_count": null,
   "id": "2b6130a8",
   "metadata": {},
   "outputs": [],
   "source": [
    "from data_reader import CompositeReader, CINC2016Reader, CINC2022Reader, EPHNOGRAMReader, PCGDataBase"
   ]
  },
  {
   "cell_type": "code",
   "execution_count": null,
   "id": "46c404c1",
   "metadata": {},
   "outputs": [],
   "source": [
    "dr = CINC2022Reader(\"/home/wenhao/Jupyter/wenhao/data/CinC2022/\")"
   ]
  },
  {
   "cell_type": "code",
   "execution_count": null,
   "id": "61123ba5",
   "metadata": {},
   "outputs": [],
   "source": [
    "?dr.plot_outcome_correlation"
   ]
  },
  {
   "cell_type": "code",
   "execution_count": null,
   "id": "5bc6b876",
   "metadata": {},
   "outputs": [],
   "source": [
    "ax = dr.plot_outcome_correlation(col=\"Murmur\")"
   ]
  },
  {
   "cell_type": "code",
   "execution_count": null,
   "id": "bfd054a1",
   "metadata": {},
   "outputs": [],
   "source": [
    "# ax.figure.savefig(\"./images/outcome_murmur_corr.pdf\", dpi=1200, bbox_inches=\"tight\", transparent=False);\n",
    "# ax.figure.savefig(\"./images/outcome_murmur_corr.svg\", dpi=1200, bbox_inches=\"tight\", transparent=False);"
   ]
  },
  {
   "cell_type": "code",
   "execution_count": null,
   "id": "2694efd6",
   "metadata": {},
   "outputs": [],
   "source": [
    "ax = dr.plot_outcome_correlation(col=\"Age\")"
   ]
  },
  {
   "cell_type": "code",
   "execution_count": null,
   "id": "5024dfdf",
   "metadata": {},
   "outputs": [],
   "source": [
    "# ax.figure.savefig(\"./images/outcome_age_corr.pdf\", dpi=1200, bbox_inches=\"tight\", transparent=False);\n",
    "# ax.figure.savefig(\"./images/outcome_age_corr.svg\", dpi=1200, bbox_inches=\"tight\", transparent=False);"
   ]
  },
  {
   "cell_type": "code",
   "execution_count": null,
   "id": "6531959b",
   "metadata": {},
   "outputs": [],
   "source": [
    "ax = dr.plot_outcome_correlation(col=\"Sex\")"
   ]
  },
  {
   "cell_type": "code",
   "execution_count": null,
   "id": "c2694396",
   "metadata": {},
   "outputs": [],
   "source": [
    "# ax.figure.savefig(\"./images/outcome_sex_corr.pdf\", dpi=1200, bbox_inches=\"tight\", transparent=False);\n",
    "# ax.figure.savefig(\"./images/outcome_sex_corr.svg\", dpi=1200, bbox_inches=\"tight\", transparent=False);"
   ]
  },
  {
   "cell_type": "code",
   "execution_count": null,
   "id": "239b79fe",
   "metadata": {},
   "outputs": [],
   "source": [
    "ax = dr.plot_outcome_correlation(col=\"Pregnancy status\")"
   ]
  },
  {
   "cell_type": "code",
   "execution_count": null,
   "id": "6cef2eac",
   "metadata": {},
   "outputs": [],
   "source": [
    "# ax.figure.savefig(\"./images/outcome_pregnancy_status_corr.pdf\", dpi=1200, bbox_inches=\"tight\", transparent=False);\n",
    "# ax.figure.savefig(\"./images/outcome_pregnancy_status_corr.svg\", dpi=1200, bbox_inches=\"tight\", transparent=False);"
   ]
  },
  {
   "cell_type": "code",
   "execution_count": null,
   "id": "8648ee67",
   "metadata": {},
   "outputs": [],
   "source": []
  },
  {
   "cell_type": "code",
   "execution_count": null,
   "id": "a397bb34",
   "metadata": {},
   "outputs": [],
   "source": []
  },
  {
   "cell_type": "markdown",
   "id": "4af6e6b6",
   "metadata": {},
   "source": [
    "## Plots of the models"
   ]
  },
  {
   "cell_type": "code",
   "execution_count": null,
   "id": "79e96fb8",
   "metadata": {},
   "outputs": [],
   "source": []
  },
  {
   "cell_type": "code",
   "execution_count": null,
   "id": "32830d20",
   "metadata": {},
   "outputs": [],
   "source": []
  },
  {
   "cell_type": "code",
   "execution_count": null,
   "id": "98b496d2",
   "metadata": {},
   "outputs": [],
   "source": []
  },
  {
   "cell_type": "code",
   "execution_count": null,
   "id": "e63b0946",
   "metadata": {},
   "outputs": [],
   "source": []
  }
 ],
 "metadata": {
  "kernelspec": {
   "display_name": "Python 3",
   "language": "python",
   "name": "python3"
  },
  "language_info": {
   "codemirror_mode": {
    "name": "ipython",
    "version": 3
   },
   "file_extension": ".py",
   "mimetype": "text/x-python",
   "name": "python",
   "nbconvert_exporter": "python",
   "pygments_lexer": "ipython3",
   "version": "3.6.9"
  }
 },
 "nbformat": 4,
 "nbformat_minor": 5
}
