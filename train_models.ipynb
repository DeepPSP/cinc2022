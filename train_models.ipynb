{
 "cells": [
  {
   "cell_type": "code",
   "execution_count": null,
   "id": "cf048c61",
   "metadata": {},
   "outputs": [],
   "source": [
    "import sys\n",
    "# ^^^ pyforest auto-imports - don't write above this line\n",
    "sys.path.insert(0, \"/home/wenhao/Jupyter/wenhao/workspace/torch_ecg/\")\n",
    "sys.path.insert(0, \"/home/wenhao/Jupyter/wenhao/workspace/bib_lookup/\")\n",
    "%load_ext autoreload\n",
    "%autoreload 2"
   ]
  },
  {
   "cell_type": "code",
   "execution_count": null,
   "id": "17d14eb5",
   "metadata": {},
   "outputs": [],
   "source": [
    "from data_reader import CINC2022Reader, CINC2016Reader, EPHNOGRAMReader\n",
    "from dataset import CinC2022Dataset\n",
    "from models import CRNN_CINC2022, SEQ_LAB_NET_CINC2022, UNET_CINC2022, Wav2Vec2_CINC2022, HFWav2Vec2_CINC2022\n",
    "from cfg import TrainCfg, ModelCfg\n",
    "from trainer import CINC2022Trainer, _MODEL_MAP, _set_task, collate_fn\n",
    "from utils.plot import plot_spectrogram\n",
    "\n",
    "from tqdm.auto import tqdm\n",
    "import torchaudio\n",
    "from copy import deepcopy\n",
    "\n",
    "from torch.nn.parallel import DistributedDataParallel as DDP, DataParallel as DP\n",
    "from torch.utils.data import DataLoader\n",
    "\n",
    "CRNN_CINC2022.__DEBUG__ = False\n",
    "Wav2Vec2_CINC2022.__DEBUG__ = False\n",
    "HFWav2Vec2_CINC2022.__DEBUG__ = False\n",
    "CinC2022Dataset.__DEBUG__ = False\n",
    "%load_ext autoreload\n",
    "%autoreload 2"
   ]
  },
  {
   "cell_type": "code",
   "execution_count": null,
   "id": "02d24e6b",
   "metadata": {},
   "outputs": [],
   "source": []
  },
  {
   "cell_type": "code",
   "execution_count": null,
   "id": "be00dae4",
   "metadata": {},
   "outputs": [],
   "source": [
    "DEVICE = torch.device(\"cuda\" if torch.cuda.is_available() else \"cpu\")\n",
    "if ModelCfg.torch_dtype == torch.float64:\n",
    "    torch.set_default_tensor_type(torch.DoubleTensor)\n",
    "    DTYPE = np.float64\n",
    "else:\n",
    "    DTYPE = np.float32"
   ]
  },
  {
   "cell_type": "code",
   "execution_count": null,
   "id": "c102bcf3",
   "metadata": {},
   "outputs": [],
   "source": [
    "TrainCfg.classification.augmentations"
   ]
  },
  {
   "cell_type": "code",
   "execution_count": null,
   "id": "19622e5a",
   "metadata": {},
   "outputs": [],
   "source": [
    "task = \"classification\"\n",
    "# task = \"multi_task\"\n",
    "\n",
    "train_config = deepcopy(TrainCfg)\n",
    "# train_config.db_dir = data_folder\n",
    "# train_config.model_dir = model_folder\n",
    "# train_config.final_model_filename = _ModelFilename\n",
    "train_config.debug = True\n",
    "\n",
    "train_config.db_dir = \"/home/wenhao/Jupyter/wenhao/data/CinC2022/\"\n",
    "\n",
    "# train_config.n_epochs = 100\n",
    "# train_config.batch_size = 24  # 16G (Tesla T4)\n",
    "# train_config.log_step = 20\n",
    "# # train_config.max_lr = 1.5e-3\n",
    "# train_config.early_stopping.patience = 20\n",
    "\n",
    "# train_config[task].cnn_name = \"resnet_nature_comm_bottle_neck_se\"\n",
    "# train_config[task].rnn_name = \"none\"  # \"none\", \"lstm\"\n",
    "# train_config[task].attn_name = \"se\"  # \"none\", \"se\", \"gc\", \"nl\"\n",
    "\n",
    "train_config[task].model_name = \"wav2vec2_hf\"\n",
    "\n",
    "_set_task(task, train_config)\n",
    "\n",
    "model_config = deepcopy(ModelCfg[task])\n",
    "\n",
    "# adjust model choices if needed\n",
    "model_config.model_name = train_config[task].model_name\n",
    "# print(model_name)\n",
    "if \"cnn\" in model_config[model_config.model_name]:\n",
    "    model_config[model_config.model_name].cnn.name = train_config[task].cnn_name\n",
    "if \"rnn\" in model_config[model_config.model_name]:\n",
    "    model_config[model_config.model_name].rnn.name = train_config[task].rnn_name\n",
    "if \"attn\" in model_config[model_config.model_name]:\n",
    "    model_config[model_config.model_name].attn.name = train_config[task].attn_name\n",
    "\n",
    "# model_config.wav2vec2.cnn.name = \"resnet_nature_comm_bottle_neck_se\"\n",
    "# model_config.wav2vec2.encoder.name = \"wav2vec2_nano\""
   ]
  },
  {
   "cell_type": "code",
   "execution_count": null,
   "id": "46a4f421",
   "metadata": {},
   "outputs": [],
   "source": [
    "model_config.model_name"
   ]
  },
  {
   "cell_type": "code",
   "execution_count": null,
   "id": "e22deb52",
   "metadata": {},
   "outputs": [],
   "source": [
    "train_config.classification.augmentations"
   ]
  },
  {
   "cell_type": "code",
   "execution_count": null,
   "id": "13aae089",
   "metadata": {},
   "outputs": [],
   "source": []
  },
  {
   "cell_type": "code",
   "execution_count": null,
   "id": "3faa59f3",
   "metadata": {},
   "outputs": [],
   "source": [
    "ds_train = CinC2022Dataset(train_config, task, training=True, lazy=True)\n",
    "ds_test = CinC2022Dataset(train_config, task, training=False, lazy=True)"
   ]
  },
  {
   "cell_type": "code",
   "execution_count": null,
   "id": "eed4ce9d",
   "metadata": {},
   "outputs": [],
   "source": [
    "ds_train._load_all_data()"
   ]
  },
  {
   "cell_type": "code",
   "execution_count": null,
   "id": "40462919",
   "metadata": {},
   "outputs": [],
   "source": [
    "ds_test._load_all_data()"
   ]
  },
  {
   "cell_type": "code",
   "execution_count": null,
   "id": "12be057c",
   "metadata": {},
   "outputs": [],
   "source": [
    "ds_train.ppm"
   ]
  },
  {
   "cell_type": "code",
   "execution_count": null,
   "id": "a29e5957",
   "metadata": {},
   "outputs": [],
   "source": [
    "model_cls = _MODEL_MAP[model_config.model_name]\n",
    "model_cls.__DEBUG__ = False"
   ]
  },
  {
   "cell_type": "code",
   "execution_count": null,
   "id": "894d8c90",
   "metadata": {},
   "outputs": [],
   "source": [
    "model = model_cls(config=model_config)\n",
    "if torch.cuda.device_count() > 1:\n",
    "    model = DP(model)\n",
    "    # model = DDP(model)\n",
    "model.to(device=DEVICE);"
   ]
  },
  {
   "cell_type": "code",
   "execution_count": null,
   "id": "2322fd35",
   "metadata": {},
   "outputs": [],
   "source": [
    "model.module.module_size, model.module.module_size_"
   ]
  },
  {
   "cell_type": "code",
   "execution_count": null,
   "id": "ad39ec81",
   "metadata": {},
   "outputs": [],
   "source": [
    "model"
   ]
  },
  {
   "cell_type": "code",
   "execution_count": null,
   "id": "65f656bb",
   "metadata": {},
   "outputs": [],
   "source": [
    "trainer = CINC2022Trainer(\n",
    "    model=model,\n",
    "    model_config=model_config,\n",
    "    train_config=train_config,\n",
    "    device=DEVICE,\n",
    "    lazy=True,\n",
    ")"
   ]
  },
  {
   "cell_type": "code",
   "execution_count": null,
   "id": "16aca01a",
   "metadata": {},
   "outputs": [],
   "source": [
    "trainer._setup_dataloaders(ds_train, ds_test)"
   ]
  },
  {
   "cell_type": "code",
   "execution_count": null,
   "id": "9d7ed365",
   "metadata": {},
   "outputs": [],
   "source": [
    "best_state_dict = trainer.train()"
   ]
  },
  {
   "cell_type": "code",
   "execution_count": null,
   "id": "9945c0e9",
   "metadata": {},
   "outputs": [],
   "source": []
  },
  {
   "cell_type": "code",
   "execution_count": null,
   "id": "0fb2b222",
   "metadata": {},
   "outputs": [],
   "source": []
  },
  {
   "cell_type": "markdown",
   "id": "54063906",
   "metadata": {},
   "source": [
    "## Inspect trained models"
   ]
  },
  {
   "cell_type": "code",
   "execution_count": null,
   "id": "8e84a372",
   "metadata": {},
   "outputs": [],
   "source": [
    "from models import Wav2Vec2_CINC2022, CRNN_CINC2022\n",
    "%load_ext autoreload\n",
    "%autoreload 2"
   ]
  },
  {
   "cell_type": "code",
   "execution_count": null,
   "id": "e54564aa",
   "metadata": {},
   "outputs": [],
   "source": [
    "ckpt = Wav2Vec2_CINC2022.from_checkpoint(\"./saved_models/BestModel_task-classification_Wav2Vec2_CINC2022_epoch22_08-05_17-56_metric_-17437.92.pth.tar\")"
   ]
  },
  {
   "cell_type": "code",
   "execution_count": null,
   "id": "d3158be6",
   "metadata": {},
   "outputs": [],
   "source": [
    "ckpt = CRNN_CINC2022.from_checkpoint(\"./saved_models/BestModel_task-multi_task_CRNN_CINC2022_epoch24_08-06_11-31_metric_-16543.76.pth.tar\")"
   ]
  },
  {
   "cell_type": "code",
   "execution_count": null,
   "id": "860dcc74",
   "metadata": {},
   "outputs": [],
   "source": [
    "best_model = ckpt[0]"
   ]
  },
  {
   "cell_type": "code",
   "execution_count": null,
   "id": "e80f6ad0",
   "metadata": {},
   "outputs": [],
   "source": [
    "best_model = best_model.to(\"cpu\")"
   ]
  },
  {
   "cell_type": "code",
   "execution_count": null,
   "id": "150382e9",
   "metadata": {},
   "outputs": [],
   "source": [
    "dl = DataLoader(\n",
    "    dataset=ds_train,\n",
    "    batch_size=4,\n",
    "    shuffle=True,\n",
    "    num_workers=4,\n",
    "    pin_memory=True,\n",
    "    drop_last=False,\n",
    "    collate_fn=collate_fn,\n",
    ")"
   ]
  },
  {
   "cell_type": "code",
   "execution_count": null,
   "id": "70c13ecd",
   "metadata": {},
   "outputs": [],
   "source": [
    "for batch in dl:\n",
    "    labels = batch\n",
    "    waveforms = labels.pop(\"waveforms\")\n",
    "    break"
   ]
  },
  {
   "cell_type": "code",
   "execution_count": null,
   "id": "b8eb3a45",
   "metadata": {},
   "outputs": [],
   "source": [
    "best_model(waveforms, labels)"
   ]
  },
  {
   "cell_type": "code",
   "execution_count": null,
   "id": "ec8dbcef",
   "metadata": {},
   "outputs": [],
   "source": []
  },
  {
   "cell_type": "code",
   "execution_count": null,
   "id": "d68967d4",
   "metadata": {},
   "outputs": [],
   "source": []
  },
  {
   "cell_type": "markdown",
   "id": "2cf0c609",
   "metadata": {},
   "source": [
    "## Misc"
   ]
  },
  {
   "cell_type": "code",
   "execution_count": null,
   "id": "bac26910",
   "metadata": {},
   "outputs": [],
   "source": [
    "import scipy.io.wavfile, torchaudio, librosa"
   ]
  },
  {
   "cell_type": "code",
   "execution_count": null,
   "id": "dc875fd9",
   "metadata": {},
   "outputs": [],
   "source": [
    "def _to_dtype(data:np.ndarray, dtype:np.dtype=np.float32) -> np.ndarray:\n",
    "    \"\"\"\n",
    "    \"\"\"\n",
    "    if data.dtype == dtype:\n",
    "        return data\n",
    "    if data.dtype in (np.int8, np.uint8, np.int16, np.int32, np.int64):\n",
    "        data = data.astype(dtype) / (np.iinfo(data.dtype).max+1)\n",
    "    return data"
   ]
  },
  {
   "cell_type": "code",
   "execution_count": null,
   "id": "6ccb6294",
   "metadata": {},
   "outputs": [],
   "source": [
    "fp = \"/home/wenhao/Jupyter/wenhao/data/CinC2022/training_data/13918_AV.wav\""
   ]
  },
  {
   "cell_type": "code",
   "execution_count": null,
   "id": "64d9dd40",
   "metadata": {},
   "outputs": [],
   "source": [
    "sio_data = _to_dtype(scipy.io.wavfile.read(fp)[1])"
   ]
  },
  {
   "cell_type": "code",
   "execution_count": null,
   "id": "6a29a942",
   "metadata": {},
   "outputs": [],
   "source": [
    "ta_data = torchaudio.load(fp)[0][0].numpy()"
   ]
  },
  {
   "cell_type": "code",
   "execution_count": null,
   "id": "4890e03f",
   "metadata": {},
   "outputs": [],
   "source": [
    "librosa_data = librosa.load(fp, sr=None)[0]"
   ]
  },
  {
   "cell_type": "code",
   "execution_count": null,
   "id": "32f44894",
   "metadata": {},
   "outputs": [],
   "source": [
    "(sio_data == ta_data).all(), (librosa_data == ta_data).all()"
   ]
  },
  {
   "cell_type": "code",
   "execution_count": null,
   "id": "c4f47b38",
   "metadata": {},
   "outputs": [],
   "source": [
    "scipy.io.wavfile.read(fp)[1].astype(np.float32)"
   ]
  },
  {
   "cell_type": "code",
   "execution_count": null,
   "id": "d7476371",
   "metadata": {},
   "outputs": [],
   "source": []
  },
  {
   "cell_type": "code",
   "execution_count": null,
   "id": "7cdf8ffd",
   "metadata": {},
   "outputs": [],
   "source": []
  },
  {
   "cell_type": "code",
   "execution_count": null,
   "id": "b29785ab",
   "metadata": {},
   "outputs": [],
   "source": [
    "_to_dtype(scipy.io.wavfile.read(\"/home/wenhao/Jupyter/wenhao/data/CinC2022/training_data/13918_AV.wav\")[1]) \\\n",
    "== torchaudio.load(\"/home/wenhao/Jupyter/wenhao/data/CinC2022/training_data/13918_AV.wav\")[0][0].numpy()"
   ]
  },
  {
   "cell_type": "code",
   "execution_count": null,
   "id": "79128371",
   "metadata": {},
   "outputs": [],
   "source": [
    "scipy.io.wavfile.read(\"/home/wenhao/Jupyter/wenhao/data/CinC2022/training_data/13918_AV.wav\")[1].dtype"
   ]
  },
  {
   "cell_type": "code",
   "execution_count": null,
   "id": "b44a80a6",
   "metadata": {},
   "outputs": [],
   "source": [
    "np.atleast_2d(_to_dtype(scipy.io.wavfile.read(\"/home/wenhao/Jupyter/wenhao/data/CinC2022/training_data/13918_AV.wav\")[1])).shape"
   ]
  },
  {
   "cell_type": "code",
   "execution_count": null,
   "id": "8e28e78a",
   "metadata": {},
   "outputs": [],
   "source": []
  },
  {
   "cell_type": "code",
   "execution_count": null,
   "id": "664b1bce",
   "metadata": {},
   "outputs": [],
   "source": []
  },
  {
   "cell_type": "code",
   "execution_count": null,
   "id": "7ed0ba02",
   "metadata": {},
   "outputs": [],
   "source": []
  }
 ],
 "metadata": {
  "kernelspec": {
   "display_name": "Python 3",
   "language": "python",
   "name": "python3"
  },
  "language_info": {
   "codemirror_mode": {
    "name": "ipython",
    "version": 3
   },
   "file_extension": ".py",
   "mimetype": "text/x-python",
   "name": "python",
   "nbconvert_exporter": "python",
   "pygments_lexer": "ipython3",
   "version": "3.6.9"
  }
 },
 "nbformat": 4,
 "nbformat_minor": 5
}
